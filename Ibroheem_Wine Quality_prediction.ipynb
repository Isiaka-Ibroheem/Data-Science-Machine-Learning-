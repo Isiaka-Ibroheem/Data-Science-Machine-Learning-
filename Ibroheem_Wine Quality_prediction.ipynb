{
 "cells": [
  {
   "cell_type": "markdown",
   "metadata": {},
   "source": [
    "## Wine Quality Project\n",
    "\n",
    "In this data science project, we will explore the wine dataset for red wine quality. The objective is to explore which chemical properties influence the quality of red wines and also build a machine learning algorithm that would correctly predict the quality of wine.\n",
    "\n",
    "You are expected to use all the different machine learning algorithms and methods that you know and choose the best performing model. \n",
    "\n",
    "**Important**\n",
    "At the end of this project, write a short report in a markdown cell below your notebook detailing your findings from EDA, data cleaning, feature selection and modelling.\n",
    "\n",
    "The dataset and data description are publicly available [here](https://archive.ics.uci.edu/ml/datasets/wine+quality) for download.\n",
    "\n",
    "Submit before 5pm Sunday, 25 Oct. 2020."
   ]
  },
  {
   "cell_type": "code",
   "execution_count": 1,
   "metadata": {},
   "outputs": [],
   "source": [
    "import numpy as np\n",
    "import pandas as pd\n",
    "import seaborn as sns\n",
    "import matplotlib.pyplot as plt\n",
    "from sklearn.preprocessing import StandardScaler \n",
    "from sklearn.ensemble import RandomForestClassifier\n",
    "from sklearn.neighbors import KNeighborsClassifier\n",
    "from sklearn.model_selection import train_test_split\n",
    "from sklearn.metrics import accuracy_score, confusion_matrix, classification_report\n",
    "from sklearn import metrics\n",
    "%matplotlib inline"
   ]
  },
  {
   "cell_type": "code",
   "execution_count": 2,
   "metadata": {},
   "outputs": [
    {
     "data": {
      "text/html": [
       "<div>\n",
       "<style scoped>\n",
       "    .dataframe tbody tr th:only-of-type {\n",
       "        vertical-align: middle;\n",
       "    }\n",
       "\n",
       "    .dataframe tbody tr th {\n",
       "        vertical-align: top;\n",
       "    }\n",
       "\n",
       "    .dataframe thead th {\n",
       "        text-align: right;\n",
       "    }\n",
       "</style>\n",
       "<table border=\"1\" class=\"dataframe\">\n",
       "  <thead>\n",
       "    <tr style=\"text-align: right;\">\n",
       "      <th></th>\n",
       "      <th>fixed acidity</th>\n",
       "      <th>volatile acidity</th>\n",
       "      <th>citric acid</th>\n",
       "      <th>residual sugar</th>\n",
       "      <th>chlorides</th>\n",
       "      <th>free sulfur dioxide</th>\n",
       "      <th>total sulfur dioxide</th>\n",
       "      <th>density</th>\n",
       "      <th>pH</th>\n",
       "      <th>sulphates</th>\n",
       "      <th>alcohol</th>\n",
       "      <th>quality</th>\n",
       "    </tr>\n",
       "  </thead>\n",
       "  <tbody>\n",
       "    <tr>\n",
       "      <th>0</th>\n",
       "      <td>7.4</td>\n",
       "      <td>0.70</td>\n",
       "      <td>0.00</td>\n",
       "      <td>1.9</td>\n",
       "      <td>0.076</td>\n",
       "      <td>11.0</td>\n",
       "      <td>34.0</td>\n",
       "      <td>0.9978</td>\n",
       "      <td>3.51</td>\n",
       "      <td>0.56</td>\n",
       "      <td>9.4</td>\n",
       "      <td>5</td>\n",
       "    </tr>\n",
       "    <tr>\n",
       "      <th>1</th>\n",
       "      <td>7.8</td>\n",
       "      <td>0.88</td>\n",
       "      <td>0.00</td>\n",
       "      <td>2.6</td>\n",
       "      <td>0.098</td>\n",
       "      <td>25.0</td>\n",
       "      <td>67.0</td>\n",
       "      <td>0.9968</td>\n",
       "      <td>3.20</td>\n",
       "      <td>0.68</td>\n",
       "      <td>9.8</td>\n",
       "      <td>5</td>\n",
       "    </tr>\n",
       "    <tr>\n",
       "      <th>2</th>\n",
       "      <td>7.8</td>\n",
       "      <td>0.76</td>\n",
       "      <td>0.04</td>\n",
       "      <td>2.3</td>\n",
       "      <td>0.092</td>\n",
       "      <td>15.0</td>\n",
       "      <td>54.0</td>\n",
       "      <td>0.9970</td>\n",
       "      <td>3.26</td>\n",
       "      <td>0.65</td>\n",
       "      <td>9.8</td>\n",
       "      <td>5</td>\n",
       "    </tr>\n",
       "    <tr>\n",
       "      <th>3</th>\n",
       "      <td>11.2</td>\n",
       "      <td>0.28</td>\n",
       "      <td>0.56</td>\n",
       "      <td>1.9</td>\n",
       "      <td>0.075</td>\n",
       "      <td>17.0</td>\n",
       "      <td>60.0</td>\n",
       "      <td>0.9980</td>\n",
       "      <td>3.16</td>\n",
       "      <td>0.58</td>\n",
       "      <td>9.8</td>\n",
       "      <td>6</td>\n",
       "    </tr>\n",
       "    <tr>\n",
       "      <th>4</th>\n",
       "      <td>7.4</td>\n",
       "      <td>0.70</td>\n",
       "      <td>0.00</td>\n",
       "      <td>1.9</td>\n",
       "      <td>0.076</td>\n",
       "      <td>11.0</td>\n",
       "      <td>34.0</td>\n",
       "      <td>0.9978</td>\n",
       "      <td>3.51</td>\n",
       "      <td>0.56</td>\n",
       "      <td>9.4</td>\n",
       "      <td>5</td>\n",
       "    </tr>\n",
       "    <tr>\n",
       "      <th>5</th>\n",
       "      <td>7.4</td>\n",
       "      <td>0.66</td>\n",
       "      <td>0.00</td>\n",
       "      <td>1.8</td>\n",
       "      <td>0.075</td>\n",
       "      <td>13.0</td>\n",
       "      <td>40.0</td>\n",
       "      <td>0.9978</td>\n",
       "      <td>3.51</td>\n",
       "      <td>0.56</td>\n",
       "      <td>9.4</td>\n",
       "      <td>5</td>\n",
       "    </tr>\n",
       "    <tr>\n",
       "      <th>6</th>\n",
       "      <td>7.9</td>\n",
       "      <td>0.60</td>\n",
       "      <td>0.06</td>\n",
       "      <td>1.6</td>\n",
       "      <td>0.069</td>\n",
       "      <td>15.0</td>\n",
       "      <td>59.0</td>\n",
       "      <td>0.9964</td>\n",
       "      <td>3.30</td>\n",
       "      <td>0.46</td>\n",
       "      <td>9.4</td>\n",
       "      <td>5</td>\n",
       "    </tr>\n",
       "    <tr>\n",
       "      <th>7</th>\n",
       "      <td>7.3</td>\n",
       "      <td>0.65</td>\n",
       "      <td>0.00</td>\n",
       "      <td>1.2</td>\n",
       "      <td>0.065</td>\n",
       "      <td>15.0</td>\n",
       "      <td>21.0</td>\n",
       "      <td>0.9946</td>\n",
       "      <td>3.39</td>\n",
       "      <td>0.47</td>\n",
       "      <td>10.0</td>\n",
       "      <td>7</td>\n",
       "    </tr>\n",
       "    <tr>\n",
       "      <th>8</th>\n",
       "      <td>7.8</td>\n",
       "      <td>0.58</td>\n",
       "      <td>0.02</td>\n",
       "      <td>2.0</td>\n",
       "      <td>0.073</td>\n",
       "      <td>9.0</td>\n",
       "      <td>18.0</td>\n",
       "      <td>0.9968</td>\n",
       "      <td>3.36</td>\n",
       "      <td>0.57</td>\n",
       "      <td>9.5</td>\n",
       "      <td>7</td>\n",
       "    </tr>\n",
       "    <tr>\n",
       "      <th>9</th>\n",
       "      <td>7.5</td>\n",
       "      <td>0.50</td>\n",
       "      <td>0.36</td>\n",
       "      <td>6.1</td>\n",
       "      <td>0.071</td>\n",
       "      <td>17.0</td>\n",
       "      <td>102.0</td>\n",
       "      <td>0.9978</td>\n",
       "      <td>3.35</td>\n",
       "      <td>0.80</td>\n",
       "      <td>10.5</td>\n",
       "      <td>5</td>\n",
       "    </tr>\n",
       "  </tbody>\n",
       "</table>\n",
       "</div>"
      ],
      "text/plain": [
       "   fixed acidity  volatile acidity  citric acid  residual sugar  chlorides  \\\n",
       "0            7.4              0.70         0.00             1.9      0.076   \n",
       "1            7.8              0.88         0.00             2.6      0.098   \n",
       "2            7.8              0.76         0.04             2.3      0.092   \n",
       "3           11.2              0.28         0.56             1.9      0.075   \n",
       "4            7.4              0.70         0.00             1.9      0.076   \n",
       "5            7.4              0.66         0.00             1.8      0.075   \n",
       "6            7.9              0.60         0.06             1.6      0.069   \n",
       "7            7.3              0.65         0.00             1.2      0.065   \n",
       "8            7.8              0.58         0.02             2.0      0.073   \n",
       "9            7.5              0.50         0.36             6.1      0.071   \n",
       "\n",
       "   free sulfur dioxide  total sulfur dioxide  density    pH  sulphates  \\\n",
       "0                 11.0                  34.0   0.9978  3.51       0.56   \n",
       "1                 25.0                  67.0   0.9968  3.20       0.68   \n",
       "2                 15.0                  54.0   0.9970  3.26       0.65   \n",
       "3                 17.0                  60.0   0.9980  3.16       0.58   \n",
       "4                 11.0                  34.0   0.9978  3.51       0.56   \n",
       "5                 13.0                  40.0   0.9978  3.51       0.56   \n",
       "6                 15.0                  59.0   0.9964  3.30       0.46   \n",
       "7                 15.0                  21.0   0.9946  3.39       0.47   \n",
       "8                  9.0                  18.0   0.9968  3.36       0.57   \n",
       "9                 17.0                 102.0   0.9978  3.35       0.80   \n",
       "\n",
       "   alcohol  quality  \n",
       "0      9.4        5  \n",
       "1      9.8        5  \n",
       "2      9.8        5  \n",
       "3      9.8        6  \n",
       "4      9.4        5  \n",
       "5      9.4        5  \n",
       "6      9.4        5  \n",
       "7     10.0        7  \n",
       "8      9.5        7  \n",
       "9     10.5        5  "
      ]
     },
     "execution_count": 2,
     "metadata": {},
     "output_type": "execute_result"
    }
   ],
   "source": [
    "wine = pd.read_csv(r\"C:\\Users\\hp user\\Desktop\\Exercises and solutions\\Exercises\\winequality-red.csv\", sep = ';')\n",
    "wine.head(10)"
   ]
  },
  {
   "cell_type": "code",
   "execution_count": 3,
   "metadata": {},
   "outputs": [
    {
     "name": "stdout",
     "output_type": "stream",
     "text": [
      "<class 'pandas.core.frame.DataFrame'>\n",
      "RangeIndex: 1599 entries, 0 to 1598\n",
      "Data columns (total 12 columns):\n",
      " #   Column                Non-Null Count  Dtype  \n",
      "---  ------                --------------  -----  \n",
      " 0   fixed acidity         1599 non-null   float64\n",
      " 1   volatile acidity      1599 non-null   float64\n",
      " 2   citric acid           1599 non-null   float64\n",
      " 3   residual sugar        1599 non-null   float64\n",
      " 4   chlorides             1599 non-null   float64\n",
      " 5   free sulfur dioxide   1599 non-null   float64\n",
      " 6   total sulfur dioxide  1599 non-null   float64\n",
      " 7   density               1599 non-null   float64\n",
      " 8   pH                    1599 non-null   float64\n",
      " 9   sulphates             1599 non-null   float64\n",
      " 10  alcohol               1599 non-null   float64\n",
      " 11  quality               1599 non-null   int64  \n",
      "dtypes: float64(11), int64(1)\n",
      "memory usage: 150.0 KB\n"
     ]
    }
   ],
   "source": [
    "wine.info()"
   ]
  },
  {
   "cell_type": "code",
   "execution_count": 4,
   "metadata": {},
   "outputs": [
    {
     "data": {
      "text/plain": [
       "(1599, 12)"
      ]
     },
     "execution_count": 4,
     "metadata": {},
     "output_type": "execute_result"
    }
   ],
   "source": [
    "wine.shape"
   ]
  },
  {
   "cell_type": "code",
   "execution_count": 5,
   "metadata": {},
   "outputs": [
    {
     "data": {
      "text/html": [
       "<div>\n",
       "<style scoped>\n",
       "    .dataframe tbody tr th:only-of-type {\n",
       "        vertical-align: middle;\n",
       "    }\n",
       "\n",
       "    .dataframe tbody tr th {\n",
       "        vertical-align: top;\n",
       "    }\n",
       "\n",
       "    .dataframe thead th {\n",
       "        text-align: right;\n",
       "    }\n",
       "</style>\n",
       "<table border=\"1\" class=\"dataframe\">\n",
       "  <thead>\n",
       "    <tr style=\"text-align: right;\">\n",
       "      <th></th>\n",
       "      <th>fixed acidity</th>\n",
       "      <th>volatile acidity</th>\n",
       "      <th>citric acid</th>\n",
       "      <th>residual sugar</th>\n",
       "      <th>chlorides</th>\n",
       "      <th>free sulfur dioxide</th>\n",
       "      <th>total sulfur dioxide</th>\n",
       "      <th>density</th>\n",
       "      <th>pH</th>\n",
       "      <th>sulphates</th>\n",
       "      <th>alcohol</th>\n",
       "      <th>quality</th>\n",
       "    </tr>\n",
       "  </thead>\n",
       "  <tbody>\n",
       "    <tr>\n",
       "      <th>count</th>\n",
       "      <td>1599.000000</td>\n",
       "      <td>1599.000000</td>\n",
       "      <td>1599.000000</td>\n",
       "      <td>1599.000000</td>\n",
       "      <td>1599.000000</td>\n",
       "      <td>1599.000000</td>\n",
       "      <td>1599.000000</td>\n",
       "      <td>1599.000000</td>\n",
       "      <td>1599.000000</td>\n",
       "      <td>1599.000000</td>\n",
       "      <td>1599.000000</td>\n",
       "      <td>1599.000000</td>\n",
       "    </tr>\n",
       "    <tr>\n",
       "      <th>mean</th>\n",
       "      <td>8.319637</td>\n",
       "      <td>0.527821</td>\n",
       "      <td>0.270976</td>\n",
       "      <td>2.538806</td>\n",
       "      <td>0.087467</td>\n",
       "      <td>15.874922</td>\n",
       "      <td>46.467792</td>\n",
       "      <td>0.996747</td>\n",
       "      <td>3.311113</td>\n",
       "      <td>0.658149</td>\n",
       "      <td>10.422983</td>\n",
       "      <td>5.636023</td>\n",
       "    </tr>\n",
       "    <tr>\n",
       "      <th>std</th>\n",
       "      <td>1.741096</td>\n",
       "      <td>0.179060</td>\n",
       "      <td>0.194801</td>\n",
       "      <td>1.409928</td>\n",
       "      <td>0.047065</td>\n",
       "      <td>10.460157</td>\n",
       "      <td>32.895324</td>\n",
       "      <td>0.001887</td>\n",
       "      <td>0.154386</td>\n",
       "      <td>0.169507</td>\n",
       "      <td>1.065668</td>\n",
       "      <td>0.807569</td>\n",
       "    </tr>\n",
       "    <tr>\n",
       "      <th>min</th>\n",
       "      <td>4.600000</td>\n",
       "      <td>0.120000</td>\n",
       "      <td>0.000000</td>\n",
       "      <td>0.900000</td>\n",
       "      <td>0.012000</td>\n",
       "      <td>1.000000</td>\n",
       "      <td>6.000000</td>\n",
       "      <td>0.990070</td>\n",
       "      <td>2.740000</td>\n",
       "      <td>0.330000</td>\n",
       "      <td>8.400000</td>\n",
       "      <td>3.000000</td>\n",
       "    </tr>\n",
       "    <tr>\n",
       "      <th>25%</th>\n",
       "      <td>7.100000</td>\n",
       "      <td>0.390000</td>\n",
       "      <td>0.090000</td>\n",
       "      <td>1.900000</td>\n",
       "      <td>0.070000</td>\n",
       "      <td>7.000000</td>\n",
       "      <td>22.000000</td>\n",
       "      <td>0.995600</td>\n",
       "      <td>3.210000</td>\n",
       "      <td>0.550000</td>\n",
       "      <td>9.500000</td>\n",
       "      <td>5.000000</td>\n",
       "    </tr>\n",
       "    <tr>\n",
       "      <th>50%</th>\n",
       "      <td>7.900000</td>\n",
       "      <td>0.520000</td>\n",
       "      <td>0.260000</td>\n",
       "      <td>2.200000</td>\n",
       "      <td>0.079000</td>\n",
       "      <td>14.000000</td>\n",
       "      <td>38.000000</td>\n",
       "      <td>0.996750</td>\n",
       "      <td>3.310000</td>\n",
       "      <td>0.620000</td>\n",
       "      <td>10.200000</td>\n",
       "      <td>6.000000</td>\n",
       "    </tr>\n",
       "    <tr>\n",
       "      <th>75%</th>\n",
       "      <td>9.200000</td>\n",
       "      <td>0.640000</td>\n",
       "      <td>0.420000</td>\n",
       "      <td>2.600000</td>\n",
       "      <td>0.090000</td>\n",
       "      <td>21.000000</td>\n",
       "      <td>62.000000</td>\n",
       "      <td>0.997835</td>\n",
       "      <td>3.400000</td>\n",
       "      <td>0.730000</td>\n",
       "      <td>11.100000</td>\n",
       "      <td>6.000000</td>\n",
       "    </tr>\n",
       "    <tr>\n",
       "      <th>max</th>\n",
       "      <td>15.900000</td>\n",
       "      <td>1.580000</td>\n",
       "      <td>1.000000</td>\n",
       "      <td>15.500000</td>\n",
       "      <td>0.611000</td>\n",
       "      <td>72.000000</td>\n",
       "      <td>289.000000</td>\n",
       "      <td>1.003690</td>\n",
       "      <td>4.010000</td>\n",
       "      <td>2.000000</td>\n",
       "      <td>14.900000</td>\n",
       "      <td>8.000000</td>\n",
       "    </tr>\n",
       "  </tbody>\n",
       "</table>\n",
       "</div>"
      ],
      "text/plain": [
       "       fixed acidity  volatile acidity  citric acid  residual sugar  \\\n",
       "count    1599.000000       1599.000000  1599.000000     1599.000000   \n",
       "mean        8.319637          0.527821     0.270976        2.538806   \n",
       "std         1.741096          0.179060     0.194801        1.409928   \n",
       "min         4.600000          0.120000     0.000000        0.900000   \n",
       "25%         7.100000          0.390000     0.090000        1.900000   \n",
       "50%         7.900000          0.520000     0.260000        2.200000   \n",
       "75%         9.200000          0.640000     0.420000        2.600000   \n",
       "max        15.900000          1.580000     1.000000       15.500000   \n",
       "\n",
       "         chlorides  free sulfur dioxide  total sulfur dioxide      density  \\\n",
       "count  1599.000000          1599.000000           1599.000000  1599.000000   \n",
       "mean      0.087467            15.874922             46.467792     0.996747   \n",
       "std       0.047065            10.460157             32.895324     0.001887   \n",
       "min       0.012000             1.000000              6.000000     0.990070   \n",
       "25%       0.070000             7.000000             22.000000     0.995600   \n",
       "50%       0.079000            14.000000             38.000000     0.996750   \n",
       "75%       0.090000            21.000000             62.000000     0.997835   \n",
       "max       0.611000            72.000000            289.000000     1.003690   \n",
       "\n",
       "                pH    sulphates      alcohol      quality  \n",
       "count  1599.000000  1599.000000  1599.000000  1599.000000  \n",
       "mean      3.311113     0.658149    10.422983     5.636023  \n",
       "std       0.154386     0.169507     1.065668     0.807569  \n",
       "min       2.740000     0.330000     8.400000     3.000000  \n",
       "25%       3.210000     0.550000     9.500000     5.000000  \n",
       "50%       3.310000     0.620000    10.200000     6.000000  \n",
       "75%       3.400000     0.730000    11.100000     6.000000  \n",
       "max       4.010000     2.000000    14.900000     8.000000  "
      ]
     },
     "execution_count": 5,
     "metadata": {},
     "output_type": "execute_result"
    }
   ],
   "source": [
    "wine.describe()"
   ]
  },
  {
   "cell_type": "code",
   "execution_count": 6,
   "metadata": {},
   "outputs": [
    {
     "data": {
      "text/plain": [
       "fixed acidity           0\n",
       "volatile acidity        0\n",
       "citric acid             0\n",
       "residual sugar          0\n",
       "chlorides               0\n",
       "free sulfur dioxide     0\n",
       "total sulfur dioxide    0\n",
       "density                 0\n",
       "pH                      0\n",
       "sulphates               0\n",
       "alcohol                 0\n",
       "quality                 0\n",
       "dtype: int64"
      ]
     },
     "execution_count": 6,
     "metadata": {},
     "output_type": "execute_result"
    }
   ],
   "source": [
    "wine.isnull().sum()"
   ]
  },
  {
   "cell_type": "code",
   "execution_count": 7,
   "metadata": {},
   "outputs": [
    {
     "data": {
      "text/plain": [
       "<matplotlib.axes._subplots.AxesSubplot at 0x1edcb416b88>"
      ]
     },
     "execution_count": 7,
     "metadata": {},
     "output_type": "execute_result"
    },
    {
     "data": {
      "image/png": "[encoded data removed]",
      "text/plain": [
       "<Figure size 864x432 with 2 Axes>"
      ]
     },
     "metadata": {
      "needs_background": "light"
     },
     "output_type": "display_data"
    }
   ],
   "source": [
    "plt.figure(figsize=(12,6))\n",
    "sns.heatmap(wine.corr(),cmap='viridis', annot=True)"
   ]
  },
  {
   "cell_type": "code",
   "execution_count": 8,
   "metadata": {},
   "outputs": [],
   "source": [
    "#Dependent and independent \n",
    "\n",
    "y = wine['quality']\n",
    "X = wine.drop(['quality'], axis = 1)"
   ]
  },
  {
   "cell_type": "code",
   "execution_count": 9,
   "metadata": {},
   "outputs": [
    {
     "name": "stdout",
     "output_type": "stream",
     "text": [
      "(1599, 66)\n"
     ]
    }
   ],
   "source": [
    "#5-Interaction among features\n",
    "#here we make combo with featrues/columns, function take one column and multipcation with another one\n",
    "from itertools import combinations\n",
    "from sklearn.preprocessing import PolynomialFeatures\n",
    "   \n",
    "def add_interations(X):\n",
    "    # Get features/columns names\n",
    "    combos = list(combinations(list(X.columns), 2))\n",
    "    colnames = list(X.columns) + ['_'.join(x) for x in combos]\n",
    "        \n",
    "    # Find interations\n",
    "    poly = PolynomialFeatures(interaction_only=True, include_bias=False)\n",
    "    X = poly.fit_transform(X)\n",
    "    X = pd.DataFrame(X)\n",
    "    X.columns = colnames\n",
    "        \n",
    "    return X\n",
    "    \n",
    "X = add_interations(X)\n",
    "print(X.shape)"
   ]
  },
  {
   "cell_type": "code",
   "execution_count": 10,
   "metadata": {},
   "outputs": [],
   "source": [
    "wine = pd.concat([X,y], axis =1)"
   ]
  },
  {
   "cell_type": "code",
   "execution_count": 11,
   "metadata": {},
   "outputs": [],
   "source": [
    "corr = wine.corr()['quality'].abs()\n",
    "drop_corr = corr[corr<0.3]\n",
    "wine = wine.drop(drop_corr.index, axis = 1)"
   ]
  },
  {
   "cell_type": "code",
   "execution_count": 12,
   "metadata": {},
   "outputs": [],
   "source": [
    "y = wine['quality']\n",
    "X = wine.drop(['quality', 'volatile acidity', 'alcohol'], axis = 1)"
   ]
  },
  {
   "cell_type": "code",
   "execution_count": 13,
   "metadata": {},
   "outputs": [
    {
     "data": {
      "text/html": [
       "<div>\n",
       "<style scoped>\n",
       "    .dataframe tbody tr th:only-of-type {\n",
       "        vertical-align: middle;\n",
       "    }\n",
       "\n",
       "    .dataframe tbody tr th {\n",
       "        vertical-align: top;\n",
       "    }\n",
       "\n",
       "    .dataframe thead th {\n",
       "        text-align: right;\n",
       "    }\n",
       "</style>\n",
       "<table border=\"1\" class=\"dataframe\">\n",
       "  <thead>\n",
       "    <tr style=\"text-align: right;\">\n",
       "      <th></th>\n",
       "      <th>fixed acidity_volatile acidity</th>\n",
       "      <th>fixed acidity_alcohol</th>\n",
       "      <th>volatile acidity_density</th>\n",
       "      <th>volatile acidity_pH</th>\n",
       "      <th>density_alcohol</th>\n",
       "      <th>pH_alcohol</th>\n",
       "      <th>sulphates_alcohol</th>\n",
       "    </tr>\n",
       "  </thead>\n",
       "  <tbody>\n",
       "    <tr>\n",
       "      <th>0</th>\n",
       "      <td>0.370985</td>\n",
       "      <td>0.114878</td>\n",
       "      <td>0.398688</td>\n",
       "      <td>0.399898</td>\n",
       "      <td>0.152159</td>\n",
       "      <td>0.319718</td>\n",
       "      <td>0.137857</td>\n",
       "    </tr>\n",
       "    <tr>\n",
       "      <th>1</th>\n",
       "      <td>0.522916</td>\n",
       "      <td>0.151267</td>\n",
       "      <td>0.521754</td>\n",
       "      <td>0.470005</td>\n",
       "      <td>0.212339</td>\n",
       "      <td>0.261477</td>\n",
       "      <td>0.223218</td>\n",
       "    </tr>\n",
       "    <tr>\n",
       "      <th>2</th>\n",
       "      <td>0.438470</td>\n",
       "      <td>0.151267</td>\n",
       "      <td>0.439493</td>\n",
       "      <td>0.403921</td>\n",
       "      <td>0.212642</td>\n",
       "      <td>0.282435</td>\n",
       "      <td>0.205292</td>\n",
       "    </tr>\n",
       "    <tr>\n",
       "      <th>3</th>\n",
       "      <td>0.186575</td>\n",
       "      <td>0.327498</td>\n",
       "      <td>0.110158</td>\n",
       "      <td>0.092876</td>\n",
       "      <td>0.214157</td>\n",
       "      <td>0.247505</td>\n",
       "      <td>0.163466</td>\n",
       "    </tr>\n",
       "    <tr>\n",
       "      <th>4</th>\n",
       "      <td>0.370985</td>\n",
       "      <td>0.114878</td>\n",
       "      <td>0.398688</td>\n",
       "      <td>0.399898</td>\n",
       "      <td>0.152159</td>\n",
       "      <td>0.319718</td>\n",
       "      <td>0.137857</td>\n",
       "    </tr>\n",
       "  </tbody>\n",
       "</table>\n",
       "</div>"
      ],
      "text/plain": [
       "   fixed acidity_volatile acidity  fixed acidity_alcohol  \\\n",
       "0                        0.370985               0.114878   \n",
       "1                        0.522916               0.151267   \n",
       "2                        0.438470               0.151267   \n",
       "3                        0.186575               0.327498   \n",
       "4                        0.370985               0.114878   \n",
       "\n",
       "   volatile acidity_density  volatile acidity_pH  density_alcohol  pH_alcohol  \\\n",
       "0                  0.398688             0.399898         0.152159    0.319718   \n",
       "1                  0.521754             0.470005         0.212339    0.261477   \n",
       "2                  0.439493             0.403921         0.212642    0.282435   \n",
       "3                  0.110158             0.092876         0.214157    0.247505   \n",
       "4                  0.398688             0.399898         0.152159    0.319718   \n",
       "\n",
       "   sulphates_alcohol  \n",
       "0           0.137857  \n",
       "1           0.223218  \n",
       "2           0.205292  \n",
       "3           0.163466  \n",
       "4           0.137857  "
      ]
     },
     "execution_count": 13,
     "metadata": {},
     "output_type": "execute_result"
    }
   ],
   "source": [
    "from sklearn.preprocessing import MinMaxScaler\n",
    "\n",
    "scaler = MinMaxScaler()\n",
    "X = pd.DataFrame(scaler.fit_transform(X), columns = X.columns)\n",
    "X.head()"
   ]
  },
  {
   "cell_type": "code",
   "execution_count": 14,
   "metadata": {},
   "outputs": [],
   "source": [
    "X_train, X_test, y_train, y_test = train_test_split(X, y, test_size=0.2, random_state=1)"
   ]
  },
  {
   "cell_type": "code",
   "execution_count": 15,
   "metadata": {},
   "outputs": [
    {
     "data": {
      "text/html": [
       "<div>\n",
       "<style scoped>\n",
       "    .dataframe tbody tr th:only-of-type {\n",
       "        vertical-align: middle;\n",
       "    }\n",
       "\n",
       "    .dataframe tbody tr th {\n",
       "        vertical-align: top;\n",
       "    }\n",
       "\n",
       "    .dataframe thead th {\n",
       "        text-align: right;\n",
       "    }\n",
       "</style>\n",
       "<table border=\"1\" class=\"dataframe\">\n",
       "  <thead>\n",
       "    <tr style=\"text-align: right;\">\n",
       "      <th></th>\n",
       "      <th>fixed acidity_volatile acidity</th>\n",
       "      <th>fixed acidity_alcohol</th>\n",
       "      <th>volatile acidity_density</th>\n",
       "      <th>volatile acidity_pH</th>\n",
       "      <th>density_alcohol</th>\n",
       "      <th>pH_alcohol</th>\n",
       "      <th>sulphates_alcohol</th>\n",
       "    </tr>\n",
       "  </thead>\n",
       "  <tbody>\n",
       "    <tr>\n",
       "      <th>0</th>\n",
       "      <td>0.370985</td>\n",
       "      <td>0.114878</td>\n",
       "      <td>0.398688</td>\n",
       "      <td>0.399898</td>\n",
       "      <td>0.152159</td>\n",
       "      <td>0.319718</td>\n",
       "      <td>0.137857</td>\n",
       "    </tr>\n",
       "    <tr>\n",
       "      <th>1</th>\n",
       "      <td>0.522916</td>\n",
       "      <td>0.151267</td>\n",
       "      <td>0.521754</td>\n",
       "      <td>0.470005</td>\n",
       "      <td>0.212339</td>\n",
       "      <td>0.261477</td>\n",
       "      <td>0.223218</td>\n",
       "    </tr>\n",
       "    <tr>\n",
       "      <th>2</th>\n",
       "      <td>0.438470</td>\n",
       "      <td>0.151267</td>\n",
       "      <td>0.439493</td>\n",
       "      <td>0.403921</td>\n",
       "      <td>0.212642</td>\n",
       "      <td>0.282435</td>\n",
       "      <td>0.205292</td>\n",
       "    </tr>\n",
       "    <tr>\n",
       "      <th>3</th>\n",
       "      <td>0.186575</td>\n",
       "      <td>0.327498</td>\n",
       "      <td>0.110158</td>\n",
       "      <td>0.092876</td>\n",
       "      <td>0.214157</td>\n",
       "      <td>0.247505</td>\n",
       "      <td>0.163466</td>\n",
       "    </tr>\n",
       "    <tr>\n",
       "      <th>4</th>\n",
       "      <td>0.370985</td>\n",
       "      <td>0.114878</td>\n",
       "      <td>0.398688</td>\n",
       "      <td>0.399898</td>\n",
       "      <td>0.152159</td>\n",
       "      <td>0.319718</td>\n",
       "      <td>0.137857</td>\n",
       "    </tr>\n",
       "  </tbody>\n",
       "</table>\n",
       "</div>"
      ],
      "text/plain": [
       "   fixed acidity_volatile acidity  fixed acidity_alcohol  \\\n",
       "0                        0.370985               0.114878   \n",
       "1                        0.522916               0.151267   \n",
       "2                        0.438470               0.151267   \n",
       "3                        0.186575               0.327498   \n",
       "4                        0.370985               0.114878   \n",
       "\n",
       "   volatile acidity_density  volatile acidity_pH  density_alcohol  pH_alcohol  \\\n",
       "0                  0.398688             0.399898         0.152159    0.319718   \n",
       "1                  0.521754             0.470005         0.212339    0.261477   \n",
       "2                  0.439493             0.403921         0.212642    0.282435   \n",
       "3                  0.110158             0.092876         0.214157    0.247505   \n",
       "4                  0.398688             0.399898         0.152159    0.319718   \n",
       "\n",
       "   sulphates_alcohol  \n",
       "0           0.137857  \n",
       "1           0.223218  \n",
       "2           0.205292  \n",
       "3           0.163466  \n",
       "4           0.137857  "
      ]
     },
     "execution_count": 15,
     "metadata": {},
     "output_type": "execute_result"
    }
   ],
   "source": [
    "X.head()"
   ]
  },
  {
   "cell_type": "code",
   "execution_count": 16,
   "metadata": {},
   "outputs": [
    {
     "data": {
      "text/plain": [
       "5    42.589118\n",
       "6    39.899937\n",
       "7    12.445278\n",
       "4     3.314572\n",
       "8     1.125704\n",
       "3     0.625391\n",
       "Name: quality, dtype: float64"
      ]
     },
     "execution_count": 16,
     "metadata": {},
     "output_type": "execute_result"
    }
   ],
   "source": [
    "y.value_counts(normalize=True)*100"
   ]
  },
  {
   "cell_type": "markdown",
   "metadata": {},
   "source": [
    "# Training model"
   ]
  },
  {
   "cell_type": "code",
   "execution_count": 17,
   "metadata": {},
   "outputs": [],
   "source": [
    "from sklearn.linear_model import LogisticRegression\n",
    "\n",
    "log_reg = LogisticRegression()\n",
    "model = log_reg.fit(X_train, y_train)\n",
    "test_predictions = model.predict(X_test)\n",
    "train_predictions = model.predict(X_train)"
   ]
  },
  {
   "cell_type": "code",
   "execution_count": 18,
   "metadata": {},
   "outputs": [
    {
     "name": "stdout",
     "output_type": "stream",
     "text": [
      "The train classification report\n",
      "              precision    recall  f1-score   support\n",
      "\n",
      "           3       0.00      0.00      0.00         9\n",
      "           4       0.00      0.00      0.00        40\n",
      "           5       0.62      0.77      0.69       541\n",
      "           6       0.52      0.55      0.53       504\n",
      "           7       0.58      0.25      0.35       169\n",
      "           8       0.00      0.00      0.00        16\n",
      "\n",
      "    accuracy                           0.58      1279\n",
      "   macro avg       0.29      0.26      0.26      1279\n",
      "weighted avg       0.54      0.58      0.55      1279\n",
      "\n",
      "[[  0   0   8   1   0   0]\n",
      " [  0   0  28  12   0   0]\n",
      " [  0   0 417 122   2   0]\n",
      " [  0   0 203 277  24   0]\n",
      " [  0   0  14 113  42   0]\n",
      " [  0   0   0  11   5   0]]\n",
      "------------------------------------------------------\n",
      "------------------------------------------------------\n",
      "------------------------------------------------------\n",
      "The test classification report\n",
      "              precision    recall  f1-score   support\n",
      "\n",
      "           3       0.00      0.00      0.00         1\n",
      "           4       0.00      0.00      0.00        13\n",
      "           5       0.63      0.79      0.70       140\n",
      "           6       0.60      0.60      0.60       134\n",
      "           7       0.50      0.20      0.29        30\n",
      "           8       0.00      0.00      0.00         2\n",
      "\n",
      "    accuracy                           0.61       320\n",
      "   macro avg       0.29      0.26      0.26       320\n",
      "weighted avg       0.57      0.61      0.58       320\n",
      "\n",
      "[[  0   0   1   0   0   0]\n",
      " [  0   0  11   2   0   0]\n",
      " [  0   0 110  29   1   0]\n",
      " [  0   0  50  80   4   0]\n",
      " [  0   0   3  21   6   0]\n",
      " [  0   0   0   1   1   0]]\n"
     ]
    },
    {
     "name": "stderr",
     "output_type": "stream",
     "text": [
      "C:\\Users\\hp user\\anaconda3\\lib\\site-packages\\sklearn\\metrics\\_classification.py:1272: UndefinedMetricWarning: Precision and F-score are ill-defined and being set to 0.0 in labels with no predicted samples. Use `zero_division` parameter to control this behavior.\n",
      "  _warn_prf(average, modifier, msg_start, len(result))\n"
     ]
    }
   ],
   "source": [
    "from sklearn.metrics import confusion_matrix, accuracy_score, f1_score, precision_score, recall_score, classification_report\n",
    "\n",
    "#test classification report\n",
    "test_report = classification_report(y_test, test_predictions)\n",
    "\n",
    "#train classification report\n",
    "train_report = classification_report(y_train, train_predictions)\n",
    "\n",
    "#output\n",
    "print(\"The train classification report\")\n",
    "print(train_report)\n",
    "print(confusion_matrix(y_train, train_predictions))\n",
    "print(\"------------------------------------------------------\")\n",
    "print(\"------------------------------------------------------\")\n",
    "print(\"------------------------------------------------------\")\n",
    "\n",
    "print(\"The test classification report\")\n",
    "print(test_report)\n",
    "print(confusion_matrix(y_test, test_predictions))"
   ]
  },
  {
   "cell_type": "markdown",
   "metadata": {},
   "source": [
    "# Support vector machine model"
   ]
  },
  {
   "cell_type": "code",
   "execution_count": 19,
   "metadata": {},
   "outputs": [],
   "source": [
    "from sklearn.svm import SVC\n",
    "\n",
    "model = SVC(C=100, gamma=1)\n",
    "\n",
    "svmodel = model.fit(X_train, y_train)\n",
    "train_predictions = model.predict(X_train)\n",
    "test_predictions = model.predict(X_test)"
   ]
  },
  {
   "cell_type": "code",
   "execution_count": 20,
   "metadata": {},
   "outputs": [
    {
     "name": "stdout",
     "output_type": "stream",
     "text": [
      "The train classification report\n",
      "              precision    recall  f1-score   support\n",
      "\n",
      "           3       1.00      0.11      0.20         9\n",
      "           4       1.00      0.05      0.10        40\n",
      "           5       0.64      0.79      0.70       541\n",
      "           6       0.55      0.57      0.56       504\n",
      "           7       0.68      0.33      0.44       169\n",
      "           8       0.00      0.00      0.00        16\n",
      "\n",
      "    accuracy                           0.60      1279\n",
      "   macro avg       0.64      0.31      0.33      1279\n",
      "weighted avg       0.61      0.60      0.58      1279\n",
      "\n",
      "[[  1   0   7   1   0   0]\n",
      " [  0   2  28  10   0   0]\n",
      " [  0   0 426 114   1   0]\n",
      " [  0   0 197 288  19   0]\n",
      " [  0   0  12 102  55   0]\n",
      " [  0   0   0  10   6   0]]\n",
      "------------------------------------------------------\n",
      "------------------------------------------------------\n",
      "------------------------------------------------------\n",
      "The test classification report\n",
      "              precision    recall  f1-score   support\n",
      "\n",
      "           3       0.00      0.00      0.00         1\n",
      "           4       1.00      0.08      0.14        13\n",
      "           5       0.64      0.80      0.71       140\n",
      "           6       0.59      0.54      0.57       134\n",
      "           7       0.30      0.20      0.24        30\n",
      "           8       0.00      0.00      0.00         2\n",
      "\n",
      "    accuracy                           0.60       320\n",
      "   macro avg       0.42      0.27      0.28       320\n",
      "weighted avg       0.60      0.60      0.58       320\n",
      "\n",
      "[[  0   0   1   0   0   0]\n",
      " [  0   1   9   3   0   0]\n",
      " [  0   0 112  27   1   0]\n",
      " [  0   0  49  73  12   0]\n",
      " [  0   0   4  20   6   0]\n",
      " [  0   0   0   1   1   0]]\n"
     ]
    },
    {
     "name": "stderr",
     "output_type": "stream",
     "text": [
      "C:\\Users\\hp user\\anaconda3\\lib\\site-packages\\sklearn\\metrics\\_classification.py:1272: UndefinedMetricWarning: Precision and F-score are ill-defined and being set to 0.0 in labels with no predicted samples. Use `zero_division` parameter to control this behavior.\n",
      "  _warn_prf(average, modifier, msg_start, len(result))\n"
     ]
    }
   ],
   "source": [
    "from sklearn.metrics import confusion_matrix, accuracy_score, f1_score, precision_score, recall_score, classification_report\n",
    "\n",
    "#test classification report\n",
    "test_report = classification_report(y_test, test_predictions)\n",
    "\n",
    "#train classification report\n",
    "train_report = classification_report(y_train, train_predictions)\n",
    "\n",
    "#output\n",
    "print(\"The train classification report\")\n",
    "print(train_report)\n",
    "print(confusion_matrix(y_train, train_predictions))\n",
    "print(\"------------------------------------------------------\")\n",
    "print(\"------------------------------------------------------\")\n",
    "print(\"------------------------------------------------------\")\n",
    "\n",
    "print(\"The test classification report\")\n",
    "print(test_report)\n",
    "print(confusion_matrix(y_test, test_predictions))"
   ]
  },
  {
   "cell_type": "code",
   "execution_count": 21,
   "metadata": {},
   "outputs": [
    {
     "name": "stderr",
     "output_type": "stream",
     "text": [
      "[Parallel(n_jobs=1)]: Using backend SequentialBackend with 1 concurrent workers.\n"
     ]
    },
    {
     "name": "stdout",
     "output_type": "stream",
     "text": [
      "Fitting 5 folds for each of 6 candidates, totalling 30 fits\n",
      "[CV] C=100, gamma=1, kernel=rbf ......................................\n",
      "[CV] .......... C=100, gamma=1, kernel=rbf, score=0.594, total=   0.2s\n",
      "[CV] C=100, gamma=1, kernel=rbf ......................................\n"
     ]
    },
    {
     "name": "stderr",
     "output_type": "stream",
     "text": [
      "[Parallel(n_jobs=1)]: Done   1 out of   1 | elapsed:    0.1s remaining:    0.0s\n"
     ]
    },
    {
     "name": "stdout",
     "output_type": "stream",
     "text": [
      "[CV] .......... C=100, gamma=1, kernel=rbf, score=0.566, total=   0.2s\n",
      "[CV] C=100, gamma=1, kernel=rbf ......................................\n"
     ]
    },
    {
     "name": "stderr",
     "output_type": "stream",
     "text": [
      "[Parallel(n_jobs=1)]: Done   2 out of   2 | elapsed:    0.4s remaining:    0.0s\n"
     ]
    },
    {
     "name": "stdout",
     "output_type": "stream",
     "text": [
      "[CV] .......... C=100, gamma=1, kernel=rbf, score=0.594, total=   0.3s\n",
      "[CV] C=100, gamma=1, kernel=rbf ......................................\n",
      "[CV] .......... C=100, gamma=1, kernel=rbf, score=0.562, total=   0.2s\n",
      "[CV] C=100, gamma=1, kernel=rbf ......................................\n",
      "[CV] .......... C=100, gamma=1, kernel=rbf, score=0.600, total=   0.3s\n",
      "[CV] C=100, gamma=0.1, kernel=rbf ....................................\n",
      "[CV] ........ C=100, gamma=0.1, kernel=rbf, score=0.594, total=   0.2s\n",
      "[CV] C=100, gamma=0.1, kernel=rbf ....................................\n",
      "[CV] ........ C=100, gamma=0.1, kernel=rbf, score=0.531, total=   0.2s\n",
      "[CV] C=100, gamma=0.1, kernel=rbf ....................................\n",
      "[CV] ........ C=100, gamma=0.1, kernel=rbf, score=0.602, total=   0.2s\n",
      "[CV] C=100, gamma=0.1, kernel=rbf ....................................\n",
      "[CV] ........ C=100, gamma=0.1, kernel=rbf, score=0.578, total=   0.3s\n",
      "[CV] C=100, gamma=0.1, kernel=rbf ....................................\n",
      "[CV] ........ C=100, gamma=0.1, kernel=rbf, score=0.545, total=   0.2s\n",
      "[CV] C=100, gamma=0.01, kernel=rbf ...................................\n",
      "[CV] ....... C=100, gamma=0.01, kernel=rbf, score=0.566, total=   0.1s\n",
      "[CV] C=100, gamma=0.01, kernel=rbf ...................................\n",
      "[CV] ....... C=100, gamma=0.01, kernel=rbf, score=0.527, total=   0.2s\n",
      "[CV] C=100, gamma=0.01, kernel=rbf ...................................\n",
      "[CV] ....... C=100, gamma=0.01, kernel=rbf, score=0.562, total=   0.2s\n",
      "[CV] C=100, gamma=0.01, kernel=rbf ...................................\n",
      "[CV] ....... C=100, gamma=0.01, kernel=rbf, score=0.551, total=   0.2s\n",
      "[CV] C=100, gamma=0.01, kernel=rbf ...................................\n",
      "[CV] ....... C=100, gamma=0.01, kernel=rbf, score=0.549, total=   0.2s\n",
      "[CV] C=1000, gamma=1, kernel=rbf .....................................\n",
      "[CV] ......... C=1000, gamma=1, kernel=rbf, score=0.582, total=   1.0s\n",
      "[CV] C=1000, gamma=1, kernel=rbf .....................................\n",
      "[CV] ......... C=1000, gamma=1, kernel=rbf, score=0.578, total=   0.8s\n",
      "[CV] C=1000, gamma=1, kernel=rbf .....................................\n",
      "[CV] ......... C=1000, gamma=1, kernel=rbf, score=0.594, total=   1.2s\n",
      "[CV] C=1000, gamma=1, kernel=rbf .....................................\n",
      "[CV] ......... C=1000, gamma=1, kernel=rbf, score=0.570, total=   1.2s\n",
      "[CV] C=1000, gamma=1, kernel=rbf .....................................\n",
      "[CV] ......... C=1000, gamma=1, kernel=rbf, score=0.588, total=   1.2s\n",
      "[CV] C=1000, gamma=0.1, kernel=rbf ...................................\n",
      "[CV] ....... C=1000, gamma=0.1, kernel=rbf, score=0.609, total=   0.5s\n",
      "[CV] C=1000, gamma=0.1, kernel=rbf ...................................\n",
      "[CV] ....... C=1000, gamma=0.1, kernel=rbf, score=0.531, total=   0.3s\n",
      "[CV] C=1000, gamma=0.1, kernel=rbf ...................................\n",
      "[CV] ....... C=1000, gamma=0.1, kernel=rbf, score=0.605, total=   0.3s\n",
      "[CV] C=1000, gamma=0.1, kernel=rbf ...................................\n",
      "[CV] ....... C=1000, gamma=0.1, kernel=rbf, score=0.570, total=   0.3s\n",
      "[CV] C=1000, gamma=0.1, kernel=rbf ...................................\n",
      "[CV] ....... C=1000, gamma=0.1, kernel=rbf, score=0.549, total=   0.6s\n",
      "[CV] C=1000, gamma=0.01, kernel=rbf ..................................\n",
      "[CV] ...... C=1000, gamma=0.01, kernel=rbf, score=0.590, total=   0.3s\n",
      "[CV] C=1000, gamma=0.01, kernel=rbf ..................................\n",
      "[CV] ...... C=1000, gamma=0.01, kernel=rbf, score=0.516, total=   0.3s\n",
      "[CV] C=1000, gamma=0.01, kernel=rbf ..................................\n",
      "[CV] ...... C=1000, gamma=0.01, kernel=rbf, score=0.562, total=   0.3s\n",
      "[CV] C=1000, gamma=0.01, kernel=rbf ..................................\n",
      "[CV] ...... C=1000, gamma=0.01, kernel=rbf, score=0.562, total=   0.3s\n",
      "[CV] C=1000, gamma=0.01, kernel=rbf ..................................\n",
      "[CV] ...... C=1000, gamma=0.01, kernel=rbf, score=0.541, total=   0.4s\n"
     ]
    },
    {
     "name": "stderr",
     "output_type": "stream",
     "text": [
      "[Parallel(n_jobs=1)]: Done  30 out of  30 | elapsed:   12.3s finished\n"
     ]
    },
    {
     "data": {
      "text/plain": [
       "GridSearchCV(cv=None, error_score=nan,\n",
       "             estimator=SVC(C=1.0, break_ties=False, cache_size=200,\n",
       "                           class_weight=None, coef0=0.0,\n",
       "                           decision_function_shape='ovr', degree=3,\n",
       "                           gamma='scale', kernel='rbf', max_iter=-1,\n",
       "                           probability=False, random_state=None, shrinking=True,\n",
       "                           tol=0.001, verbose=False),\n",
       "             iid='deprecated', n_jobs=None,\n",
       "             param_grid={'C': [100, 1000], 'gamma': [1, 0.1, 0.01],\n",
       "                         'kernel': ['rbf']},\n",
       "             pre_dispatch='2*n_jobs', refit=True, return_train_score=False,\n",
       "             scoring=None, verbose=3)"
      ]
     },
     "execution_count": 21,
     "metadata": {},
     "output_type": "execute_result"
    }
   ],
   "source": [
    "param_grid = {'C': [100,1000], 'gamma': [1, 0.1, 0.01], 'kernel':['rbf']}\n",
    "\n",
    "from sklearn.model_selection import GridSearchCV\n",
    "grid = GridSearchCV(SVC(), param_grid, refit = True, verbose = 3)\n",
    "\n",
    "grid.fit(X_train, y_train)"
   ]
  },
  {
   "cell_type": "code",
   "execution_count": 22,
   "metadata": {},
   "outputs": [
    {
     "data": {
      "text/plain": [
       "{'C': 100, 'gamma': 1, 'kernel': 'rbf'}"
      ]
     },
     "execution_count": 22,
     "metadata": {},
     "output_type": "execute_result"
    }
   ],
   "source": [
    "grid.best_params_"
   ]
  },
  {
   "cell_type": "code",
   "execution_count": 23,
   "metadata": {},
   "outputs": [
    {
     "data": {
      "text/plain": [
       "SVC(C=100, break_ties=False, cache_size=200, class_weight=None, coef0=0.0,\n",
       "    decision_function_shape='ovr', degree=3, gamma=1, kernel='rbf', max_iter=-1,\n",
       "    probability=False, random_state=None, shrinking=True, tol=0.001,\n",
       "    verbose=False)"
      ]
     },
     "execution_count": 23,
     "metadata": {},
     "output_type": "execute_result"
    }
   ],
   "source": [
    "grid.best_estimator_"
   ]
  },
  {
   "cell_type": "markdown",
   "metadata": {},
   "source": [
    "# Decision tree"
   ]
  },
  {
   "cell_type": "code",
   "execution_count": 24,
   "metadata": {},
   "outputs": [],
   "source": [
    "from sklearn.tree import DecisionTreeClassifier"
   ]
  },
  {
   "cell_type": "code",
   "execution_count": 50,
   "metadata": {},
   "outputs": [],
   "source": [
    "model = DecisionTreeClassifier(max_depth=3, random_state=42)\n",
    "model.fit(X_train, y_train)\n",
    "train_predictions = model.predict(X_train)\n",
    "test_predictions = model.predict(X_test)"
   ]
  },
  {
   "cell_type": "code",
   "execution_count": 51,
   "metadata": {},
   "outputs": [
    {
     "name": "stdout",
     "output_type": "stream",
     "text": [
      "The train score\n",
      "0.6059421422986708\n",
      "------------------------------------------------------\n",
      "------------------------------------------------------\n",
      "------------------------------------------------------\n",
      "The test score\n",
      "0.61875\n"
     ]
    }
   ],
   "source": [
    "from sklearn.metrics import confusion_matrix, accuracy_score, f1_score, precision_score, recall_score, classification_report\n",
    "\n",
    "#test classification report\n",
    "test_report = accuracy_score(y_test, test_predictions)\n",
    "\n",
    "#train classification report\n",
    "train_report = accuracy_score(y_train, train_predictions)\n",
    "\n",
    "#output\n",
    "print(\"The train score\")\n",
    "print(train_report)\n",
    "print(\"------------------------------------------------------\")\n",
    "print(\"------------------------------------------------------\")\n",
    "print(\"------------------------------------------------------\")\n",
    "\n",
    "print(\"The test score\")\n",
    "print(test_report)"
   ]
  },
  {
   "cell_type": "code",
   "execution_count": 27,
   "metadata": {},
   "outputs": [
    {
     "name": "stdout",
     "output_type": "stream",
     "text": [
      "Fitting 3 folds for each of 14 candidates, totalling 42 fits\n",
      "[CV] criterion=gini, max_depth=1 .....................................\n",
      "[CV] ...................... criterion=gini, max_depth=1, total=   0.0s\n",
      "[CV] criterion=gini, max_depth=1 .....................................\n",
      "[CV] ...................... criterion=gini, max_depth=1, total=   0.0s\n",
      "[CV] criterion=gini, max_depth=1 .....................................\n",
      "[CV] ...................... criterion=gini, max_depth=1, total=   0.0s\n",
      "[CV] criterion=gini, max_depth=2 .....................................\n",
      "[CV] ...................... criterion=gini, max_depth=2, total=   0.0s\n",
      "[CV] criterion=gini, max_depth=2 .....................................\n",
      "[CV] ...................... criterion=gini, max_depth=2, total=   0.0s\n",
      "[CV] criterion=gini, max_depth=2 .....................................\n",
      "[CV] ...................... criterion=gini, max_depth=2, total=   0.0s\n",
      "[CV] criterion=gini, max_depth=3 .....................................\n",
      "[CV] ...................... criterion=gini, max_depth=3, total=   0.0s\n",
      "[CV] criterion=gini, max_depth=3 .....................................\n",
      "[CV] ...................... criterion=gini, max_depth=3, total=   0.0s"
     ]
    },
    {
     "name": "stderr",
     "output_type": "stream",
     "text": [
      "[Parallel(n_jobs=1)]: Using backend SequentialBackend with 1 concurrent workers.\n",
      "[Parallel(n_jobs=1)]: Done   1 out of   1 | elapsed:    0.0s remaining:    0.0s\n"
     ]
    },
    {
     "name": "stdout",
     "output_type": "stream",
     "text": [
      "\n",
      "[CV] criterion=gini, max_depth=3 .....................................\n",
      "[CV] ...................... criterion=gini, max_depth=3, total=   0.0s\n",
      "[CV] criterion=gini, max_depth=4 .....................................\n",
      "[CV] ...................... criterion=gini, max_depth=4, total=   0.0s\n",
      "[CV] criterion=gini, max_depth=4 .....................................\n",
      "[CV] ...................... criterion=gini, max_depth=4, total=   0.0s\n",
      "[CV] criterion=gini, max_depth=4 .....................................\n",
      "[CV] ...................... criterion=gini, max_depth=4, total=   0.0s\n",
      "[CV] criterion=gini, max_depth=5 .....................................\n",
      "[CV] ...................... criterion=gini, max_depth=5, total=   0.0s\n",
      "[CV] criterion=gini, max_depth=5 .....................................\n",
      "[CV] ...................... criterion=gini, max_depth=5, total=   0.0s\n",
      "[CV] criterion=gini, max_depth=5 .....................................\n",
      "[CV] ...................... criterion=gini, max_depth=5, total=   0.0s\n",
      "[CV] criterion=gini, max_depth=6 .....................................\n",
      "[CV] ...................... criterion=gini, max_depth=6, total=   0.0s\n",
      "[CV] criterion=gini, max_depth=6 .....................................\n",
      "[CV] ...................... criterion=gini, max_depth=6, total=   0.1s\n",
      "[CV] criterion=gini, max_depth=6 .....................................\n",
      "[CV] ...................... criterion=gini, max_depth=6, total=   0.0s\n",
      "[CV] criterion=gini, max_depth=7 .....................................\n",
      "[CV] ...................... criterion=gini, max_depth=7, total=   0.0s\n",
      "[CV] criterion=gini, max_depth=7 .....................................\n",
      "[CV] ...................... criterion=gini, max_depth=7, total=   0.0s\n",
      "[CV] criterion=gini, max_depth=7 .....................................\n",
      "[CV] ...................... criterion=gini, max_depth=7, total=   0.0s\n",
      "[CV] criterion=entropy, max_depth=1 ..................................\n",
      "[CV] ................... criterion=entropy, max_depth=1, total=   0.0s\n",
      "[CV] criterion=entropy, max_depth=1 ..................................\n",
      "[CV] ................... criterion=entropy, max_depth=1, total=   0.0s\n",
      "[CV] criterion=entropy, max_depth=1 ..................................\n",
      "[CV] ................... criterion=entropy, max_depth=1, total=   0.0s\n",
      "[CV] criterion=entropy, max_depth=2 ..................................\n",
      "[CV] ................... criterion=entropy, max_depth=2, total=   0.0s\n",
      "[CV] criterion=entropy, max_depth=2 ..................................\n",
      "[CV] ................... criterion=entropy, max_depth=2, total=   0.0s\n",
      "[CV] criterion=entropy, max_depth=2 ..................................\n",
      "[CV] ................... criterion=entropy, max_depth=2, total=   0.0s\n",
      "[CV] criterion=entropy, max_depth=3 ..................................\n",
      "[CV] ................... criterion=entropy, max_depth=3, total=   0.0s\n",
      "[CV] criterion=entropy, max_depth=3 ..................................\n",
      "[CV] ................... criterion=entropy, max_depth=3, total=   0.0s\n",
      "[CV] criterion=entropy, max_depth=3 ..................................\n",
      "[CV] ................... criterion=entropy, max_depth=3, total=   0.0s\n",
      "[CV] criterion=entropy, max_depth=4 ..................................\n",
      "[CV] ................... criterion=entropy, max_depth=4, total=   0.0s\n",
      "[CV] criterion=entropy, max_depth=4 ..................................\n",
      "[CV] ................... criterion=entropy, max_depth=4, total=   0.0s\n",
      "[CV] criterion=entropy, max_depth=4 ..................................\n",
      "[CV] ................... criterion=entropy, max_depth=4, total=   0.0s\n",
      "[CV] criterion=entropy, max_depth=5 ..................................\n",
      "[CV] ................... criterion=entropy, max_depth=5, total=   0.0s\n",
      "[CV] criterion=entropy, max_depth=5 ..................................\n",
      "[CV] ................... criterion=entropy, max_depth=5, total=   0.0s\n",
      "[CV] criterion=entropy, max_depth=5 ..................................\n",
      "[CV] ................... criterion=entropy, max_depth=5, total=   0.0s\n",
      "[CV] criterion=entropy, max_depth=6 ..................................\n",
      "[CV] ................... criterion=entropy, max_depth=6, total=   0.0s\n",
      "[CV] criterion=entropy, max_depth=6 ..................................\n",
      "[CV] ................... criterion=entropy, max_depth=6, total=   0.0s\n",
      "[CV] criterion=entropy, max_depth=6 ..................................\n",
      "[CV] ................... criterion=entropy, max_depth=6, total=   0.0s\n",
      "[CV] criterion=entropy, max_depth=7 ..................................\n",
      "[CV] ................... criterion=entropy, max_depth=7, total=   0.0s\n",
      "[CV] criterion=entropy, max_depth=7 ..................................\n",
      "[CV] ................... criterion=entropy, max_depth=7, total=   0.0s\n",
      "[CV] criterion=entropy, max_depth=7 ..................................\n",
      "[CV] ................... criterion=entropy, max_depth=7, total=   0.0s\n"
     ]
    },
    {
     "name": "stderr",
     "output_type": "stream",
     "text": [
      "[Parallel(n_jobs=1)]: Done  42 out of  42 | elapsed:    1.0s finished\n"
     ]
    },
    {
     "data": {
      "text/plain": [
       "GridSearchCV(cv=3, error_score=nan,\n",
       "             estimator=DecisionTreeClassifier(ccp_alpha=0.0, class_weight=None,\n",
       "                                              criterion='gini', max_depth=None,\n",
       "                                              max_features=None,\n",
       "                                              max_leaf_nodes=None,\n",
       "                                              min_impurity_decrease=0.0,\n",
       "                                              min_impurity_split=None,\n",
       "                                              min_samples_leaf=1,\n",
       "                                              min_samples_split=2,\n",
       "                                              min_weight_fraction_leaf=0.0,\n",
       "                                              presort='deprecated',\n",
       "                                              random_state=None,\n",
       "                                              splitter='best'),\n",
       "             iid='deprecated', n_jobs=None,\n",
       "             param_grid={'criterion': ['gini', 'entropy'],\n",
       "                         'max_depth': [1, 2, 3, 4, 5, 6, 7]},\n",
       "             pre_dispatch='2*n_jobs', refit=True, return_train_score=False,\n",
       "             scoring=None, verbose=2)"
      ]
     },
     "execution_count": 27,
     "metadata": {},
     "output_type": "execute_result"
    }
   ],
   "source": [
    "params = {'max_depth':[1,2,3,4,5,6,7], 'criterion':['gini','entropy']}\n",
    "\n",
    "grid = GridSearchCV(DecisionTreeClassifier(), param_grid=params, cv = 3, verbose = 2)\n",
    "\n",
    "grid.fit(X_train, y_train)"
   ]
  },
  {
   "cell_type": "code",
   "execution_count": 28,
   "metadata": {},
   "outputs": [
    {
     "data": {
      "text/plain": [
       "{'criterion': 'entropy', 'max_depth': 5}"
      ]
     },
     "execution_count": 28,
     "metadata": {},
     "output_type": "execute_result"
    }
   ],
   "source": [
    "grid.best_params_"
   ]
  },
  {
   "cell_type": "markdown",
   "metadata": {},
   "source": [
    "# Random Forest"
   ]
  },
  {
   "cell_type": "code",
   "execution_count": 44,
   "metadata": {},
   "outputs": [],
   "source": [
    "from sklearn.ensemble import RandomForestClassifier\n",
    "\n",
    "rand = RandomForestClassifier(max_depth=3,n_estimators=150,random_state=1)\n",
    "rand.fit(X_train, y_train)\n",
    "test_predictions = rand.predict(X_test)\n",
    "train_predictions = rand.predict(X_train)"
   ]
  },
  {
   "cell_type": "code",
   "execution_count": 45,
   "metadata": {},
   "outputs": [
    {
     "name": "stdout",
     "output_type": "stream",
     "text": [
      "The train score\n",
      "0.6075058639562158\n",
      "------------------------------------------------------\n",
      "------------------------------------------------------\n",
      "------------------------------------------------------\n",
      "The test score\n",
      "0.621875\n"
     ]
    }
   ],
   "source": [
    "from sklearn.metrics import confusion_matrix, accuracy_score, classification_report\n",
    "\n",
    "#test classification report\n",
    "test_report = accuracy_score(y_test, test_predictions)\n",
    "\n",
    "#train classification report\n",
    "train_report = accuracy_score(y_train, train_predictions)\n",
    "\n",
    "#output\n",
    "print(\"The train score\")\n",
    "print(train_report)\n",
    "print(\"------------------------------------------------------\")\n",
    "print(\"------------------------------------------------------\")\n",
    "print(\"------------------------------------------------------\")\n",
    "\n",
    "print(\"The test score\")\n",
    "print(test_report)"
   ]
  },
  {
   "cell_type": "code",
   "execution_count": 31,
   "metadata": {},
   "outputs": [],
   "source": [
    "from sklearn.model_selection import GridSearchCV"
   ]
  },
  {
   "cell_type": "code",
   "execution_count": 32,
   "metadata": {},
   "outputs": [
    {
     "name": "stdout",
     "output_type": "stream",
     "text": [
      "Fitting 3 folds for each of 24 candidates, totalling 72 fits\n",
      "[CV] criterion=gini, max_depth=1, n_estimators=50 ....................\n"
     ]
    },
    {
     "name": "stderr",
     "output_type": "stream",
     "text": [
      "[Parallel(n_jobs=1)]: Using backend SequentialBackend with 1 concurrent workers.\n"
     ]
    },
    {
     "name": "stdout",
     "output_type": "stream",
     "text": [
      "[CV] ..... criterion=gini, max_depth=1, n_estimators=50, total=   0.4s\n",
      "[CV] criterion=gini, max_depth=1, n_estimators=50 ....................\n"
     ]
    },
    {
     "name": "stderr",
     "output_type": "stream",
     "text": [
      "[Parallel(n_jobs=1)]: Done   1 out of   1 | elapsed:    0.3s remaining:    0.0s\n"
     ]
    },
    {
     "name": "stdout",
     "output_type": "stream",
     "text": [
      "[CV] ..... criterion=gini, max_depth=1, n_estimators=50, total=   0.2s\n",
      "[CV] criterion=gini, max_depth=1, n_estimators=50 ....................\n",
      "[CV] ..... criterion=gini, max_depth=1, n_estimators=50, total=   0.2s\n",
      "[CV] criterion=gini, max_depth=1, n_estimators=100 ...................\n",
      "[CV] .... criterion=gini, max_depth=1, n_estimators=100, total=   0.4s\n",
      "[CV] criterion=gini, max_depth=1, n_estimators=100 ...................\n",
      "[CV] .... criterion=gini, max_depth=1, n_estimators=100, total=   0.4s\n",
      "[CV] criterion=gini, max_depth=1, n_estimators=100 ...................\n",
      "[CV] .... criterion=gini, max_depth=1, n_estimators=100, total=   0.5s\n",
      "[CV] criterion=gini, max_depth=1, n_estimators=150 ...................\n",
      "[CV] .... criterion=gini, max_depth=1, n_estimators=150, total=   0.8s\n",
      "[CV] criterion=gini, max_depth=1, n_estimators=150 ...................\n",
      "[CV] .... criterion=gini, max_depth=1, n_estimators=150, total=   0.6s\n",
      "[CV] criterion=gini, max_depth=1, n_estimators=150 ...................\n",
      "[CV] .... criterion=gini, max_depth=1, n_estimators=150, total=   0.5s\n",
      "[CV] criterion=gini, max_depth=1, n_estimators=200 ...................\n",
      "[CV] .... criterion=gini, max_depth=1, n_estimators=200, total=   0.9s\n",
      "[CV] criterion=gini, max_depth=1, n_estimators=200 ...................\n",
      "[CV] .... criterion=gini, max_depth=1, n_estimators=200, total=   0.8s\n",
      "[CV] criterion=gini, max_depth=1, n_estimators=200 ...................\n",
      "[CV] .... criterion=gini, max_depth=1, n_estimators=200, total=   0.7s\n",
      "[CV] criterion=gini, max_depth=2, n_estimators=50 ....................\n",
      "[CV] ..... criterion=gini, max_depth=2, n_estimators=50, total=   0.2s\n",
      "[CV] criterion=gini, max_depth=2, n_estimators=50 ....................\n",
      "[CV] ..... criterion=gini, max_depth=2, n_estimators=50, total=   0.2s\n",
      "[CV] criterion=gini, max_depth=2, n_estimators=50 ....................\n",
      "[CV] ..... criterion=gini, max_depth=2, n_estimators=50, total=   0.2s\n",
      "[CV] criterion=gini, max_depth=2, n_estimators=100 ...................\n",
      "[CV] .... criterion=gini, max_depth=2, n_estimators=100, total=   0.5s\n",
      "[CV] criterion=gini, max_depth=2, n_estimators=100 ...................\n",
      "[CV] .... criterion=gini, max_depth=2, n_estimators=100, total=   0.4s\n",
      "[CV] criterion=gini, max_depth=2, n_estimators=100 ...................\n",
      "[CV] .... criterion=gini, max_depth=2, n_estimators=100, total=   0.5s\n",
      "[CV] criterion=gini, max_depth=2, n_estimators=150 ...................\n",
      "[CV] .... criterion=gini, max_depth=2, n_estimators=150, total=   0.9s\n",
      "[CV] criterion=gini, max_depth=2, n_estimators=150 ...................\n",
      "[CV] .... criterion=gini, max_depth=2, n_estimators=150, total=   0.8s\n",
      "[CV] criterion=gini, max_depth=2, n_estimators=150 ...................\n",
      "[CV] .... criterion=gini, max_depth=2, n_estimators=150, total=   0.9s\n",
      "[CV] criterion=gini, max_depth=2, n_estimators=200 ...................\n",
      "[CV] .... criterion=gini, max_depth=2, n_estimators=200, total=   0.8s\n",
      "[CV] criterion=gini, max_depth=2, n_estimators=200 ...................\n",
      "[CV] .... criterion=gini, max_depth=2, n_estimators=200, total=   0.8s\n",
      "[CV] criterion=gini, max_depth=2, n_estimators=200 ...................\n",
      "[CV] .... criterion=gini, max_depth=2, n_estimators=200, total=   0.8s\n",
      "[CV] criterion=gini, max_depth=3, n_estimators=50 ....................\n",
      "[CV] ..... criterion=gini, max_depth=3, n_estimators=50, total=   0.3s\n",
      "[CV] criterion=gini, max_depth=3, n_estimators=50 ....................\n",
      "[CV] ..... criterion=gini, max_depth=3, n_estimators=50, total=   0.2s\n",
      "[CV] criterion=gini, max_depth=3, n_estimators=50 ....................\n",
      "[CV] ..... criterion=gini, max_depth=3, n_estimators=50, total=   0.3s\n",
      "[CV] criterion=gini, max_depth=3, n_estimators=100 ...................\n",
      "[CV] .... criterion=gini, max_depth=3, n_estimators=100, total=   0.6s\n",
      "[CV] criterion=gini, max_depth=3, n_estimators=100 ...................\n",
      "[CV] .... criterion=gini, max_depth=3, n_estimators=100, total=   0.4s\n",
      "[CV] criterion=gini, max_depth=3, n_estimators=100 ...................\n",
      "[CV] .... criterion=gini, max_depth=3, n_estimators=100, total=   0.5s\n",
      "[CV] criterion=gini, max_depth=3, n_estimators=150 ...................\n",
      "[CV] .... criterion=gini, max_depth=3, n_estimators=150, total=   0.5s\n",
      "[CV] criterion=gini, max_depth=3, n_estimators=150 ...................\n",
      "[CV] .... criterion=gini, max_depth=3, n_estimators=150, total=   1.0s\n",
      "[CV] criterion=gini, max_depth=3, n_estimators=150 ...................\n",
      "[CV] .... criterion=gini, max_depth=3, n_estimators=150, total=   1.0s\n",
      "[CV] criterion=gini, max_depth=3, n_estimators=200 ...................\n",
      "[CV] .... criterion=gini, max_depth=3, n_estimators=200, total=   0.8s\n",
      "[CV] criterion=gini, max_depth=3, n_estimators=200 ...................\n",
      "[CV] .... criterion=gini, max_depth=3, n_estimators=200, total=   1.2s\n",
      "[CV] criterion=gini, max_depth=3, n_estimators=200 ...................\n",
      "[CV] .... criterion=gini, max_depth=3, n_estimators=200, total=   1.0s\n",
      "[CV] criterion=entropy, max_depth=1, n_estimators=50 .................\n",
      "[CV] .. criterion=entropy, max_depth=1, n_estimators=50, total=   0.2s\n",
      "[CV] criterion=entropy, max_depth=1, n_estimators=50 .................\n",
      "[CV] .. criterion=entropy, max_depth=1, n_estimators=50, total=   0.4s\n",
      "[CV] criterion=entropy, max_depth=1, n_estimators=50 .................\n",
      "[CV] .. criterion=entropy, max_depth=1, n_estimators=50, total=   0.3s\n",
      "[CV] criterion=entropy, max_depth=1, n_estimators=100 ................\n",
      "[CV] . criterion=entropy, max_depth=1, n_estimators=100, total=   0.5s\n",
      "[CV] criterion=entropy, max_depth=1, n_estimators=100 ................\n",
      "[CV] . criterion=entropy, max_depth=1, n_estimators=100, total=   0.5s\n",
      "[CV] criterion=entropy, max_depth=1, n_estimators=100 ................\n",
      "[CV] . criterion=entropy, max_depth=1, n_estimators=100, total=   0.6s\n",
      "[CV] criterion=entropy, max_depth=1, n_estimators=150 ................\n",
      "[CV] . criterion=entropy, max_depth=1, n_estimators=150, total=   0.8s\n",
      "[CV] criterion=entropy, max_depth=1, n_estimators=150 ................\n",
      "[CV] . criterion=entropy, max_depth=1, n_estimators=150, total=   0.9s\n",
      "[CV] criterion=entropy, max_depth=1, n_estimators=150 ................\n",
      "[CV] . criterion=entropy, max_depth=1, n_estimators=150, total=   0.7s\n",
      "[CV] criterion=entropy, max_depth=1, n_estimators=200 ................\n",
      "[CV] . criterion=entropy, max_depth=1, n_estimators=200, total=   1.1s\n",
      "[CV] criterion=entropy, max_depth=1, n_estimators=200 ................\n",
      "[CV] . criterion=entropy, max_depth=1, n_estimators=200, total=   1.1s\n",
      "[CV] criterion=entropy, max_depth=1, n_estimators=200 ................\n",
      "[CV] . criterion=entropy, max_depth=1, n_estimators=200, total=   0.9s\n",
      "[CV] criterion=entropy, max_depth=2, n_estimators=50 .................\n",
      "[CV] .. criterion=entropy, max_depth=2, n_estimators=50, total=   0.3s\n",
      "[CV] criterion=entropy, max_depth=2, n_estimators=50 .................\n",
      "[CV] .. criterion=entropy, max_depth=2, n_estimators=50, total=   0.3s\n",
      "[CV] criterion=entropy, max_depth=2, n_estimators=50 .................\n",
      "[CV] .. criterion=entropy, max_depth=2, n_estimators=50, total=   0.3s\n",
      "[CV] criterion=entropy, max_depth=2, n_estimators=100 ................\n",
      "[CV] . criterion=entropy, max_depth=2, n_estimators=100, total=   0.5s\n",
      "[CV] criterion=entropy, max_depth=2, n_estimators=100 ................\n",
      "[CV] . criterion=entropy, max_depth=2, n_estimators=100, total=   0.7s\n",
      "[CV] criterion=entropy, max_depth=2, n_estimators=100 ................\n",
      "[CV] . criterion=entropy, max_depth=2, n_estimators=100, total=   0.7s\n",
      "[CV] criterion=entropy, max_depth=2, n_estimators=150 ................\n",
      "[CV] . criterion=entropy, max_depth=2, n_estimators=150, total=   1.0s\n",
      "[CV] criterion=entropy, max_depth=2, n_estimators=150 ................\n",
      "[CV] . criterion=entropy, max_depth=2, n_estimators=150, total=   1.1s\n",
      "[CV] criterion=entropy, max_depth=2, n_estimators=150 ................\n",
      "[CV] . criterion=entropy, max_depth=2, n_estimators=150, total=   1.1s\n",
      "[CV] criterion=entropy, max_depth=2, n_estimators=200 ................\n",
      "[CV] . criterion=entropy, max_depth=2, n_estimators=200, total=   1.1s\n",
      "[CV] criterion=entropy, max_depth=2, n_estimators=200 ................\n",
      "[CV] . criterion=entropy, max_depth=2, n_estimators=200, total=   1.2s\n",
      "[CV] criterion=entropy, max_depth=2, n_estimators=200 ................\n"
     ]
    },
    {
     "name": "stdout",
     "output_type": "stream",
     "text": [
      "[CV] . criterion=entropy, max_depth=2, n_estimators=200, total=   1.2s\n",
      "[CV] criterion=entropy, max_depth=3, n_estimators=50 .................\n",
      "[CV] .. criterion=entropy, max_depth=3, n_estimators=50, total=   0.3s\n",
      "[CV] criterion=entropy, max_depth=3, n_estimators=50 .................\n",
      "[CV] .. criterion=entropy, max_depth=3, n_estimators=50, total=   0.4s\n",
      "[CV] criterion=entropy, max_depth=3, n_estimators=50 .................\n",
      "[CV] .. criterion=entropy, max_depth=3, n_estimators=50, total=   0.3s\n",
      "[CV] criterion=entropy, max_depth=3, n_estimators=100 ................\n",
      "[CV] . criterion=entropy, max_depth=3, n_estimators=100, total=   0.6s\n",
      "[CV] criterion=entropy, max_depth=3, n_estimators=100 ................\n",
      "[CV] . criterion=entropy, max_depth=3, n_estimators=100, total=   0.5s\n",
      "[CV] criterion=entropy, max_depth=3, n_estimators=100 ................\n",
      "[CV] . criterion=entropy, max_depth=3, n_estimators=100, total=   0.5s\n",
      "[CV] criterion=entropy, max_depth=3, n_estimators=150 ................\n",
      "[CV] . criterion=entropy, max_depth=3, n_estimators=150, total=   0.9s\n",
      "[CV] criterion=entropy, max_depth=3, n_estimators=150 ................\n",
      "[CV] . criterion=entropy, max_depth=3, n_estimators=150, total=   1.2s\n",
      "[CV] criterion=entropy, max_depth=3, n_estimators=150 ................\n",
      "[CV] . criterion=entropy, max_depth=3, n_estimators=150, total=   0.8s\n",
      "[CV] criterion=entropy, max_depth=3, n_estimators=200 ................\n",
      "[CV] . criterion=entropy, max_depth=3, n_estimators=200, total=   0.8s\n",
      "[CV] criterion=entropy, max_depth=3, n_estimators=200 ................\n",
      "[CV] . criterion=entropy, max_depth=3, n_estimators=200, total=   0.7s\n",
      "[CV] criterion=entropy, max_depth=3, n_estimators=200 ................\n",
      "[CV] . criterion=entropy, max_depth=3, n_estimators=200, total=   0.7s\n"
     ]
    },
    {
     "name": "stderr",
     "output_type": "stream",
     "text": [
      "[Parallel(n_jobs=1)]: Done  72 out of  72 | elapsed:   46.4s finished\n"
     ]
    },
    {
     "data": {
      "text/plain": [
       "GridSearchCV(cv=3, error_score=nan,\n",
       "             estimator=RandomForestClassifier(bootstrap=True, ccp_alpha=0.0,\n",
       "                                              class_weight=None,\n",
       "                                              criterion='gini', max_depth=None,\n",
       "                                              max_features='auto',\n",
       "                                              max_leaf_nodes=None,\n",
       "                                              max_samples=None,\n",
       "                                              min_impurity_decrease=0.0,\n",
       "                                              min_impurity_split=None,\n",
       "                                              min_samples_leaf=1,\n",
       "                                              min_samples_split=2,\n",
       "                                              min_weight_fraction_leaf=0.0,\n",
       "                                              n_estimators=100, n_jobs=None,\n",
       "                                              oob_score=False,\n",
       "                                              random_state=None, verbose=0,\n",
       "                                              warm_start=False),\n",
       "             iid='deprecated', n_jobs=None,\n",
       "             param_grid={'criterion': ['gini', 'entropy'],\n",
       "                         'max_depth': [1, 2, 3],\n",
       "                         'n_estimators': [50, 100, 150, 200]},\n",
       "             pre_dispatch='2*n_jobs', refit=True, return_train_score=False,\n",
       "             scoring=None, verbose=2)"
      ]
     },
     "execution_count": 32,
     "metadata": {},
     "output_type": "execute_result"
    }
   ],
   "source": [
    "params = {'n_estimators':[50,100,150,200], 'max_depth':[1,2,3], 'criterion':['gini', 'entropy']}\n",
    "\n",
    "grid = GridSearchCV(RandomForestClassifier(), param_grid=params, cv = 3, verbose = 2)\n",
    "\n",
    "grid.fit(X_train, y_train)"
   ]
  },
  {
   "cell_type": "code",
   "execution_count": 33,
   "metadata": {},
   "outputs": [
    {
     "data": {
      "text/plain": [
       "{'criterion': 'entropy', 'max_depth': 3, 'n_estimators': 200}"
      ]
     },
     "execution_count": 33,
     "metadata": {},
     "output_type": "execute_result"
    }
   ],
   "source": [
    "grid.best_params_"
   ]
  },
  {
   "cell_type": "markdown",
   "metadata": {},
   "source": [
    "# KNearestNeigbors"
   ]
  },
  {
   "cell_type": "code",
   "execution_count": 34,
   "metadata": {},
   "outputs": [],
   "source": [
    "from sklearn.neighbors import KNeighborsClassifier"
   ]
  },
  {
   "cell_type": "code",
   "execution_count": 35,
   "metadata": {},
   "outputs": [
    {
     "name": "stdout",
     "output_type": "stream",
     "text": [
      "1---> 61.250\n",
      "2---> 54.375\n",
      "3---> 54.688\n",
      "4---> 61.562\n",
      "5---> 59.688\n",
      "6---> 62.813\n",
      "7---> 63.125\n",
      "8---> 65.625\n",
      "9---> 65.000\n",
      "10---> 66.250\n",
      "11---> 61.562\n",
      "12---> 60.625\n",
      "13---> 61.250\n",
      "14---> 60.938\n",
      "15---> 60.938\n",
      "16---> 60.312\n",
      "17---> 62.500\n",
      "18---> 60.938\n",
      "19---> 61.562\n",
      "20---> 60.312\n",
      "21---> 60.938\n",
      "22---> 60.625\n",
      "23---> 58.750\n",
      "24---> 60.000\n",
      "25---> 61.250\n",
      "26---> 61.562\n",
      "27---> 62.187\n",
      "28---> 62.187\n",
      "29---> 62.187\n",
      "30---> 62.187\n",
      "31---> 62.813\n",
      "32---> 63.438\n",
      "33---> 63.750\n",
      "34---> 62.500\n",
      "35---> 62.187\n",
      "36---> 62.813\n",
      "37---> 61.562\n",
      "38---> 62.187\n",
      "39---> 61.562\n",
      "40---> 61.875\n",
      "41---> 60.312\n",
      "42---> 61.250\n",
      "43---> 60.312\n",
      "44---> 60.312\n",
      "45---> 58.750\n",
      "46---> 58.438\n",
      "47---> 58.750\n",
      "48---> 59.375\n",
      "49---> 59.375\n"
     ]
    }
   ],
   "source": [
    "k_range = range(1, 50)\n",
    "scores = {}\n",
    "scores_list = []\n",
    "\n",
    "for k in k_range:\n",
    "    knn = KNeighborsClassifier(n_neighbors = k)\n",
    "    knn.fit(X_train, y_train)\n",
    "    y_pred = knn.predict(X_test)\n",
    "    train_pred = knn.predict(X_train)\n",
    "    scores[k] = accuracy_score(y_test, y_pred)\n",
    "    scores_list.append(accuracy_score(y_test, y_pred))\n",
    "    print(\"{}---> {:.3f}\".format(k,(accuracy_score(y_test, y_pred)*100)))"
   ]
  },
  {
   "cell_type": "code",
   "execution_count": 36,
   "metadata": {},
   "outputs": [
    {
     "data": {
      "image/png": "[encoded data removed]",
      "text/plain": [
       "<Figure size 720x432 with 1 Axes>"
      ]
     },
     "metadata": {
      "needs_background": "light"
     },
     "output_type": "display_data"
    }
   ],
   "source": [
    "plt.figure(figsize = (10, 6))\n",
    "plt.plot(k_range, scores_list, c = 'k')\n",
    "plt.xlabel('Value of K for KNN')\n",
    "plt.ylabel('Accuracy')\n",
    "plt.grid(True)"
   ]
  },
  {
   "cell_type": "code",
   "execution_count": 37,
   "metadata": {},
   "outputs": [
    {
     "name": "stdout",
     "output_type": "stream",
     "text": [
      "The train score\n",
      "0.63721657544957\n",
      "------------------------------------------------------\n",
      "------------------------------------------------------\n",
      "------------------------------------------------------\n",
      "The test score\n",
      "0.6625\n"
     ]
    }
   ],
   "source": [
    "from sklearn.metrics import confusion_matrix, accuracy_score, classification_report\n",
    "\n",
    "knn = KNeighborsClassifier(n_neighbors = 10)\n",
    "knn.fit(X_train,y_train)\n",
    "test_predictions = knn.predict(X_test)\n",
    "train_predictions = knn.predict(X_train)\n",
    "#test classification report\n",
    "test_report = accuracy_score(y_test, test_predictions)\n",
    "\n",
    "#train classification report\n",
    "train_report = accuracy_score(y_train, train_predictions)\n",
    "\n",
    "#output\n",
    "print(\"The train score\")\n",
    "print(train_report)\n",
    "print(\"------------------------------------------------------\")\n",
    "print(\"------------------------------------------------------\")\n",
    "print(\"------------------------------------------------------\")\n",
    "\n",
    "print(\"The test score\")\n",
    "print(test_report)"
   ]
  },
  {
   "cell_type": "markdown",
   "metadata": {},
   "source": [
    "# Report"
   ]
  },
  {
   "cell_type": "markdown",
   "metadata": {},
   "source": [
    "*  The red wine dataset contain 12 columns and 1599 rows with no null values.\n",
    "\n",
    "*  I created new features by multiplying the existing 12 columns which increased the existing columns to 66.\n",
    "\n",
    "*  Dropped columns whose correlation value with the target column is less than 0.3.\n",
    "\n",
    "*  Checked for colinearlinearity among remaining columns and dropped them, three columns were dropped here.\n",
    "\n",
    "*  Used the train_test_split method to separate the dataset, tho the data is an imbalance one, infering from the value counts of the target variables.\n",
    "\n",
    "*  Used five classification models in the modelling: Logistic regression, Support vector machine, Decision Tree, Random forest and KNearestNeighbors model.\n",
    "\n",
    "*  I had trouble improving the model, dunno how to improve it further, i've tried Ma.\n",
    "\n",
    "*  I tried Stratified KFoldCV but it didn't improve the model. I used this Cross validation technique owning to the imbalance nature of the dataset.\n",
    "\n",
    "*  The KNearestNeighbor model gave the best f1_score so far.\n",
    "\n",
    "*  Used GridSearchCV technique to eliminate overfitting. It worked on most of the models."
   ]
  }
 ],
 "metadata": {
  "kernelspec": {
   "display_name": "Python 3",
   "language": "python",
   "name": "python3"
  },
  "language_info": {
   "codemirror_mode": {
    "name": "ipython",
    "version": 3
   },
   "file_extension": ".py",
   "mimetype": "text/x-python",
   "name": "python",
   "nbconvert_exporter": "python",
   "pygments_lexer": "ipython3",
   "version": "3.7.6"
  }
 },
 "nbformat": 4,
 "nbformat_minor": 4
}
